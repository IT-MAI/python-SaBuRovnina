{
 "cells": [
  {
   "cell_type": "markdown",
   "id": "85755de8",
   "metadata": {},
   "source": [
    "# Самостоятельное задание #5\n",
    "\n",
    "\n",
    "### Задание 1\n",
    "\n",
    "Допишите функцию, которая принимает список, выбирает из него все элементы с четным индексом и возвращает их в виде списка."
   ]
  },
  {
   "cell_type": "code",
   "execution_count": 4,
   "id": "6ef6d9b3",
   "metadata": {},
   "outputs": [
    {
     "name": "stdout",
     "output_type": "stream",
     "text": [
      "[2, 4, 6, 8]\n"
     ]
    }
   ],
   "source": [
    "def mem(b):\n",
    "    for i in range(len(b)):\n",
    "        if i % 2 == 1:\n",
    "            x = b[i]\n",
    "            a.append(x)\n",
    "    return a\n",
    "b = [1,2,3,4,5,6,7,8,9]\n",
    "a = list()\n",
    "print(mem(b))\n"
   ]
  },
  {
   "cell_type": "markdown",
   "id": "443974c9",
   "metadata": {},
   "source": [
    "### Задание 2\n",
    "\n",
    "Допишите функцию, которая принимает список, выбирает из него все элементы, которые больше предыдущего и возвращает их в виде списка.\n"
   ]
  },
  {
   "cell_type": "code",
   "execution_count": 21,
   "id": "3a8cf925",
   "metadata": {},
   "outputs": [
    {
     "name": "stdout",
     "output_type": "stream",
     "text": [
      "[2, 6, 7, 52, 6]\n"
     ]
    }
   ],
   "source": [
    "def mem(a):\n",
    "    for i in range(len(a)):\n",
    "        if a[i] > a[i-1]:\n",
    "            y = a[i]\n",
    "            c.append(y)\n",
    "    return c\n",
    "a = [1,2,6,7,52,1,6]\n",
    "c = list()\n",
    "print(mem(a))"
   ]
  },
  {
   "cell_type": "markdown",
   "id": "34524ede",
   "metadata": {},
   "source": [
    "### Задание 3\n",
    "\n",
    "Допишите функцию, которая принимает список, меняет местами наибольший и наименьший элементы и возвращает этот список."
   ]
  },
  {
   "cell_type": "code",
   "execution_count": 24,
   "id": "34d2beae",
   "metadata": {},
   "outputs": [
    {
     "name": "stdout",
     "output_type": "stream",
     "text": [
      "[99999999, 2, 3, 3, 4, 5, 6, 7, 6, 1]\n"
     ]
    }
   ],
   "source": [
    "def mem(a):\n",
    "    min1 = min(a)\n",
    "    max1 = max(a)\n",
    "    n = 0\n",
    "    p= 0 \n",
    "    for i in range(len(a)):\n",
    "        if a[i] == min1:\n",
    "            n = i\n",
    "        elif a[i] == max1:\n",
    "            p = i\n",
    "    a[n] = max1\n",
    "    a[p] = min1\n",
    "    return a\n",
    "a = [1,2,3,3,4,5,6,7,6,99999999]\n",
    "print(mem(a))"
   ]
  }
 ],
 "metadata": {
  "kernelspec": {
   "display_name": "Python 3",
   "language": "python",
   "name": "python3"
  },
  "language_info": {
   "codemirror_mode": {
    "name": "ipython",
    "version": 3
   },
   "file_extension": ".py",
   "mimetype": "text/x-python",
   "name": "python",
   "nbconvert_exporter": "python",
   "pygments_lexer": "ipython3",
   "version": "3.8.8"
  }
 },
 "nbformat": 4,
 "nbformat_minor": 5
}
