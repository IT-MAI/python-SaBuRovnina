{
 "cells": [
  {
   "cell_type": "code",
   "execution_count": 9,
   "id": "0c28ba03",
   "metadata": {},
   "outputs": [
    {
     "name": "stdout",
     "output_type": "stream",
     "text": [
      "Введите последовательность цифер без пробела: 11223536\n",
      "['1', '1', '2', '2', '3', '5', '3', '6']\n",
      "NO\n",
      "YES\n",
      "NO\n",
      "YES\n",
      "NO\n",
      "NO\n",
      "YES\n",
      "NO\n",
      "конец\n"
     ]
    }
   ],
   "source": [
    "a=str(int(input('Введите последовательность цифер без пробела: ')))\n",
    "b=list(a)\n",
    "print(b)\n",
    "c=[]\n",
    "d=[]\n",
    "def YES(my_list):\n",
    "    if len(my_list)==0:\n",
    "        return 'конец'\n",
    "    else:\n",
    "        c.append(my_list[0])\n",
    "        if my_list[0] in d:\n",
    "            print('YES')\n",
    "            \n",
    "        else:\n",
    "            print('NO')\n",
    "        d.append(my_list[0])\n",
    "        my_list.pop(0)\n",
    "        return YES(my_list)\n",
    "print(YES(b))"
   ]
  },
  {
   "cell_type": "code",
   "execution_count": null,
   "id": "87909f00",
   "metadata": {},
   "outputs": [],
   "source": []
  }
 ],
 "metadata": {
  "kernelspec": {
   "display_name": "Python 3",
   "language": "python",
   "name": "python3"
  },
  "language_info": {
   "codemirror_mode": {
    "name": "ipython",
    "version": 3
   },
   "file_extension": ".py",
   "mimetype": "text/x-python",
   "name": "python",
   "nbconvert_exporter": "python",
   "pygments_lexer": "ipython3",
   "version": "3.8.8"
  }
 },
 "nbformat": 4,
 "nbformat_minor": 5
}
