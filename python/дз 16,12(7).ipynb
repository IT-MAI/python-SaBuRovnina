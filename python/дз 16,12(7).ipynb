{
 "cells": [
  {
   "cell_type": "code",
   "execution_count": 22,
   "id": "a9aac8b0",
   "metadata": {},
   "outputs": [
    {
     "name": "stdout",
     "output_type": "stream",
     "text": [
      "Синоним к последнему слову: paren\n"
     ]
    }
   ],
   "source": [
    "a=[\n",
    "    ['mem','prikol'],\n",
    "    ['bog','allah'],\n",
    "    ['chel','paren']\n",
    "    ]\n",
    "\n",
    "def kto(kuda):\n",
    "    print(f\"Синоним к последнему слову: {kuda[len(a)-1][1]}\")\n",
    "\n",
    "kto(a)"
   ]
  },
  {
   "cell_type": "code",
   "execution_count": null,
   "id": "a4a6c459",
   "metadata": {},
   "outputs": [],
   "source": []
  }
 ],
 "metadata": {
  "kernelspec": {
   "display_name": "Python 3",
   "language": "python",
   "name": "python3"
  },
  "language_info": {
   "codemirror_mode": {
    "name": "ipython",
    "version": 3
   },
   "file_extension": ".py",
   "mimetype": "text/x-python",
   "name": "python",
   "nbconvert_exporter": "python",
   "pygments_lexer": "ipython3",
   "version": "3.8.8"
  }
 },
 "nbformat": 4,
 "nbformat_minor": 5
}
