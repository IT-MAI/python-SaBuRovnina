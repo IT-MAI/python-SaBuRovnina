{
 "cells": [
  {
   "cell_type": "code",
   "execution_count": 16,
   "id": "7b2dc779",
   "metadata": {},
   "outputs": [
    {
     "name": "stdout",
     "output_type": "stream",
     "text": [
      "Слова и число их в тексте: {'пошли': 1, 'лупа': 2, 'и': 1, 'пупа': 1, 'за': 1, 'зарплатой': 1}\n"
     ]
    }
   ],
   "source": [
    "a='пошли лупа и пупа за зарплатой лупа'\n",
    "q=a.split(sep=' ')\n",
    "p={}\n",
    "#(3,6,3,8,2,4,9,7,4)\n",
    "for i in range(len(q)):\n",
    "    p[q[i]]= 0\n",
    "for i in range(len(q)):\n",
    "    p[q[i]]+=1\n",
    "print(f\"Слова и число их в тексте: {p}\")"
   ]
  },
  {
   "cell_type": "code",
   "execution_count": null,
   "id": "0603bd8d",
   "metadata": {},
   "outputs": [],
   "source": []
  }
 ],
 "metadata": {
  "kernelspec": {
   "display_name": "Python 3",
   "language": "python",
   "name": "python3"
  },
  "language_info": {
   "codemirror_mode": {
    "name": "ipython",
    "version": 3
   },
   "file_extension": ".py",
   "mimetype": "text/x-python",
   "name": "python",
   "nbconvert_exporter": "python",
   "pygments_lexer": "ipython3",
   "version": "3.8.8"
  }
 },
 "nbformat": 4,
 "nbformat_minor": 5
}
