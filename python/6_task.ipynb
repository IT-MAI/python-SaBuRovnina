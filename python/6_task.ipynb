{
 "cells": [
  {
   "cell_type": "markdown",
   "id": "49944faf",
   "metadata": {},
   "source": [
    "# Самостоятельное задание #6\n",
    "\n",
    "\n",
    "### Задание 1\n",
    "\n",
    "\n",
    "Допишите функцию, которая принимает несколько параметров. Первый параметр - словарь, второй параметр - один из ключей данного словаря. Функция должна выводить значение этого ключа."
   ]
  },
  {
   "cell_type": "code",
   "execution_count": 3,
   "id": "3f41a526",
   "metadata": {},
   "outputs": [
    {
     "name": "stdout",
     "output_type": "stream",
     "text": [
      "сколько чисел в словаре-: 2\n",
      "Введите ключ: 1\n",
      "Введите значение: кто\n",
      "Введите ключ: 2\n",
      "Введите значение: куда\n",
      "Введите ключ: 2\n",
      "Значение ключа: куда\n"
     ]
    }
   ],
   "source": [
    "a=int(input('сколько чисел в словаре: '))\n",
    "b={}\n",
    "for i in range(a):\n",
    "    c=str(input('Введите ключ: '))\n",
    "    q=str(input('Введите значение: '))\n",
    "    b[c]=q\n",
    "d=str(input('Введите ключ: '))\n",
    "print('Значение ключа: '+str(b[d]))"
   ]
  }
 ],
 "metadata": {
  "kernelspec": {
   "display_name": "Python 3",
   "language": "python",
   "name": "python3"
  },
  "language_info": {
   "codemirror_mode": {
    "name": "ipython",
    "version": 3
   },
   "file_extension": ".py",
   "mimetype": "text/x-python",
   "name": "python",
   "nbconvert_exporter": "python",
   "pygments_lexer": "ipython3",
   "version": "3.8.8"
  }
 },
 "nbformat": 4,
 "nbformat_minor": 5
}
