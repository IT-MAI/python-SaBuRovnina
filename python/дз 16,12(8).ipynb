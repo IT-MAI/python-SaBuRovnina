{
 "cells": [
  {
   "cell_type": "code",
   "execution_count": null,
   "id": "62e85253",
   "metadata": {},
   "outputs": [],
   "source": [
    "mem=input('Введите название файла, в котором есть текст: ')\n",
    "pup=open(mem,'r')\n",
    "p=pup.read()\n",
    "\n",
    "t1=\"\"\"2 \n",
    "Дед за репку \n",
    "бабка за дедку\"\"\"\n",
    "def maxword(text):\n",
    "    text.replace('\\n',' ')\n",
    "    q=text.split(sep=' ')\n",
    "    q.pop(0)\n",
    "    f=list(set(q))\n",
    "    a=[]\n",
    "    for i in f:\n",
    "        a.append(q.count(i))\n",
    "    b=[]\n",
    "    for i in range(len(f)):\n",
    "        b.append([f[i],a[i]])\n",
    "    c=[]\n",
    "    for i in range(len(f)):\n",
    "        if b[i][1]==max(a):\n",
    "            c.append(b[i])\n",
    "        else:\n",
    "            pass\n",
    "    d=[]\n",
    "    for i in range(len(c)):\n",
    "        d.append(c[i][0])\n",
    "    print(f\"Слово '{min(d)}' встречается в тексте {q.count(min(d))} - максимальное количство раз\")\n",
    "maxword(p)"
   ]
  },
  {
   "cell_type": "code",
   "execution_count": null,
   "id": "1315f005",
   "metadata": {},
   "outputs": [],
   "source": []
  }
 ],
 "metadata": {
  "kernelspec": {
   "display_name": "Python 3",
   "language": "python",
   "name": "python3"
  },
  "language_info": {
   "codemirror_mode": {
    "name": "ipython",
    "version": 3
   },
   "file_extension": ".py",
   "mimetype": "text/x-python",
   "name": "python",
   "nbconvert_exporter": "python",
   "pygments_lexer": "ipython3",
   "version": "3.8.8"
  }
 },
 "nbformat": 4,
 "nbformat_minor": 5
}
