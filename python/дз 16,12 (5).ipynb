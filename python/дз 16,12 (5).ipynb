{
 "cells": [
  {
   "cell_type": "code",
   "execution_count": 15,
   "id": "34f42373",
   "metadata": {},
   "outputs": [
    {
     "name": "stdout",
     "output_type": "stream",
     "text": [
      "Уникальные слова: {'', 'сложно', 'Почему', 'так'}\n"
     ]
    }
   ],
   "source": [
    "a='5 Почему так сложно сложно '\n",
    "def uniqueness(text):\n",
    "    d=text.split(sep=' ')\n",
    "    d.pop(0)\n",
    "    b=set(d)\n",
    "    print(f\"Уникальные слова: {b}\")\n",
    "\n",
    "uniqueness(a)"
   ]
  },
  {
   "cell_type": "code",
   "execution_count": null,
   "id": "5b4bef7e",
   "metadata": {},
   "outputs": [],
   "source": []
  }
 ],
 "metadata": {
  "kernelspec": {
   "display_name": "Python 3",
   "language": "python",
   "name": "python3"
  },
  "language_info": {
   "codemirror_mode": {
    "name": "ipython",
    "version": 3
   },
   "file_extension": ".py",
   "mimetype": "text/x-python",
   "name": "python",
   "nbconvert_exporter": "python",
   "pygments_lexer": "ipython3",
   "version": "3.8.8"
  }
 },
 "nbformat": 4,
 "nbformat_minor": 5
}
